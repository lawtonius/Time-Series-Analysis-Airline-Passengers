{
 "cells": [
  {
   "cell_type": "markdown",
   "id": "3395c2a4",
   "metadata": {},
   "source": [
    "# Time Series Analysis with Airline Passenger Forecasting"
   ]
  },
  {
   "cell_type": "markdown",
   "id": "b91a4e81",
   "metadata": {},
   "source": [
    "### Import the Libraries"
   ]
  },
  {
   "cell_type": "code",
   "execution_count": 1,
   "id": "309e80cc",
   "metadata": {},
   "outputs": [],
   "source": [
    "import numpy as np\n",
    "import matplotlib.pyplot as plt\n",
    "import pandas as pd\n",
    "import seaborn as sns\n",
    "import warnings\n",
    "warnings.filterwarnings('ignore')\n",
    "\n",
    "from statsmodels.tsa.stattools import adfuller, acf\n",
    "from statsmodels.tsa.seasonal import seasonal_decompose\n",
    "from pandas.plotting import autocorrelation_plot\n",
    "\n",
    "from pmdarima.arima import ADFTest, auto_arima\n",
    "from statsmodels.tsa.statespace.sarimax import SARIMAX\n",
    "\n",
    "import math\n",
    "from sklearn.metrics import mean_squared_error\n",
    "from tensorflow.keras.models import Sequential\n",
    "from tensorflow.keras.layers import Dense\n",
    "from sklearn.preprocessing import MinMaxScaler"
   ]
  },
  {
   "cell_type": "markdown",
   "id": "257473a8",
   "metadata": {},
   "source": [
    "### Load the Dataset"
   ]
  },
  {
   "cell_type": "code",
   "execution_count": 2,
   "id": "7508ba5e",
   "metadata": {},
   "outputs": [
    {
     "data": {
      "text/html": [
       "<div>\n",
       "<style scoped>\n",
       "    .dataframe tbody tr th:only-of-type {\n",
       "        vertical-align: middle;\n",
       "    }\n",
       "\n",
       "    .dataframe tbody tr th {\n",
       "        vertical-align: top;\n",
       "    }\n",
       "\n",
       "    .dataframe thead th {\n",
       "        text-align: right;\n",
       "    }\n",
       "</style>\n",
       "<table border=\"1\" class=\"dataframe\">\n",
       "  <thead>\n",
       "    <tr style=\"text-align: right;\">\n",
       "      <th></th>\n",
       "      <th>Month</th>\n",
       "      <th>Passengers</th>\n",
       "    </tr>\n",
       "  </thead>\n",
       "  <tbody>\n",
       "    <tr>\n",
       "      <th>0</th>\n",
       "      <td>1949-01</td>\n",
       "      <td>112</td>\n",
       "    </tr>\n",
       "    <tr>\n",
       "      <th>1</th>\n",
       "      <td>1949-02</td>\n",
       "      <td>118</td>\n",
       "    </tr>\n",
       "    <tr>\n",
       "      <th>2</th>\n",
       "      <td>1949-03</td>\n",
       "      <td>132</td>\n",
       "    </tr>\n",
       "    <tr>\n",
       "      <th>3</th>\n",
       "      <td>1949-04</td>\n",
       "      <td>129</td>\n",
       "    </tr>\n",
       "    <tr>\n",
       "      <th>4</th>\n",
       "      <td>1949-05</td>\n",
       "      <td>121</td>\n",
       "    </tr>\n",
       "  </tbody>\n",
       "</table>\n",
       "</div>"
      ],
      "text/plain": [
       "     Month  Passengers\n",
       "0  1949-01         112\n",
       "1  1949-02         118\n",
       "2  1949-03         132\n",
       "3  1949-04         129\n",
       "4  1949-05         121"
      ]
     },
     "execution_count": 2,
     "metadata": {},
     "output_type": "execute_result"
    }
   ],
   "source": [
    "df = pd.read_csv('airpassengers.csv')\n",
    "df.head()"
   ]
  },
  {
   "cell_type": "markdown",
   "id": "02ce7f1f",
   "metadata": {},
   "source": [
    "### Set the date column to a DateTime field (if it isn't already), then set that as the index"
   ]
  },
  {
   "cell_type": "code",
   "execution_count": 3,
   "id": "20ac97c1",
   "metadata": {},
   "outputs": [
    {
     "name": "stdout",
     "output_type": "stream",
     "text": [
      "Month         object\n",
      "Passengers     int64\n",
      "dtype: object\n"
     ]
    }
   ],
   "source": [
    "print(df.dtypes)"
   ]
  },
  {
   "cell_type": "code",
   "execution_count": 4,
   "id": "6f819171",
   "metadata": {},
   "outputs": [
    {
     "name": "stdout",
     "output_type": "stream",
     "text": [
      "Month         datetime64[ns]\n",
      "Passengers             int64\n",
      "dtype: object\n"
     ]
    }
   ],
   "source": [
    "df['Month'] = pd.to_datetime(df['Month'])\n",
    "print(df.dtypes)"
   ]
  },
  {
   "cell_type": "code",
   "execution_count": 5,
   "id": "6c0c2a76",
   "metadata": {},
   "outputs": [
    {
     "data": {
      "text/html": [
       "<div>\n",
       "<style scoped>\n",
       "    .dataframe tbody tr th:only-of-type {\n",
       "        vertical-align: middle;\n",
       "    }\n",
       "\n",
       "    .dataframe tbody tr th {\n",
       "        vertical-align: top;\n",
       "    }\n",
       "\n",
       "    .dataframe thead th {\n",
       "        text-align: right;\n",
       "    }\n",
       "</style>\n",
       "<table border=\"1\" class=\"dataframe\">\n",
       "  <thead>\n",
       "    <tr style=\"text-align: right;\">\n",
       "      <th></th>\n",
       "      <th>Passengers</th>\n",
       "    </tr>\n",
       "    <tr>\n",
       "      <th>Month</th>\n",
       "      <th></th>\n",
       "    </tr>\n",
       "  </thead>\n",
       "  <tbody>\n",
       "    <tr>\n",
       "      <th>1949-01-01</th>\n",
       "      <td>112</td>\n",
       "    </tr>\n",
       "    <tr>\n",
       "      <th>1949-02-01</th>\n",
       "      <td>118</td>\n",
       "    </tr>\n",
       "    <tr>\n",
       "      <th>1949-03-01</th>\n",
       "      <td>132</td>\n",
       "    </tr>\n",
       "    <tr>\n",
       "      <th>1949-04-01</th>\n",
       "      <td>129</td>\n",
       "    </tr>\n",
       "    <tr>\n",
       "      <th>1949-05-01</th>\n",
       "      <td>121</td>\n",
       "    </tr>\n",
       "    <tr>\n",
       "      <th>...</th>\n",
       "      <td>...</td>\n",
       "    </tr>\n",
       "    <tr>\n",
       "      <th>1960-08-01</th>\n",
       "      <td>606</td>\n",
       "    </tr>\n",
       "    <tr>\n",
       "      <th>1960-09-01</th>\n",
       "      <td>508</td>\n",
       "    </tr>\n",
       "    <tr>\n",
       "      <th>1960-10-01</th>\n",
       "      <td>461</td>\n",
       "    </tr>\n",
       "    <tr>\n",
       "      <th>1960-11-01</th>\n",
       "      <td>390</td>\n",
       "    </tr>\n",
       "    <tr>\n",
       "      <th>1960-12-01</th>\n",
       "      <td>432</td>\n",
       "    </tr>\n",
       "  </tbody>\n",
       "</table>\n",
       "<p>144 rows × 1 columns</p>\n",
       "</div>"
      ],
      "text/plain": [
       "            Passengers\n",
       "Month                 \n",
       "1949-01-01         112\n",
       "1949-02-01         118\n",
       "1949-03-01         132\n",
       "1949-04-01         129\n",
       "1949-05-01         121\n",
       "...                ...\n",
       "1960-08-01         606\n",
       "1960-09-01         508\n",
       "1960-10-01         461\n",
       "1960-11-01         390\n",
       "1960-12-01         432\n",
       "\n",
       "[144 rows x 1 columns]"
      ]
     },
     "execution_count": 5,
     "metadata": {},
     "output_type": "execute_result"
    }
   ],
   "source": [
    "df.set_index('Month', inplace = True)\n",
    "df"
   ]
  },
  {
   "cell_type": "markdown",
   "id": "05286dab",
   "metadata": {},
   "source": [
    "### Add Month and Year columns to make visualizations easier"
   ]
  },
  {
   "cell_type": "code",
   "execution_count": 6,
   "id": "9e0ae91f",
   "metadata": {},
   "outputs": [
    {
     "data": {
      "text/html": [
       "<div>\n",
       "<style scoped>\n",
       "    .dataframe tbody tr th:only-of-type {\n",
       "        vertical-align: middle;\n",
       "    }\n",
       "\n",
       "    .dataframe tbody tr th {\n",
       "        vertical-align: top;\n",
       "    }\n",
       "\n",
       "    .dataframe thead th {\n",
       "        text-align: right;\n",
       "    }\n",
       "</style>\n",
       "<table border=\"1\" class=\"dataframe\">\n",
       "  <thead>\n",
       "    <tr style=\"text-align: right;\">\n",
       "      <th></th>\n",
       "      <th>Passengers</th>\n",
       "      <th>year</th>\n",
       "      <th>month</th>\n",
       "    </tr>\n",
       "    <tr>\n",
       "      <th>Month</th>\n",
       "      <th></th>\n",
       "      <th></th>\n",
       "      <th></th>\n",
       "    </tr>\n",
       "  </thead>\n",
       "  <tbody>\n",
       "    <tr>\n",
       "      <th>1949-01-01</th>\n",
       "      <td>112</td>\n",
       "      <td>1949</td>\n",
       "      <td>1</td>\n",
       "    </tr>\n",
       "    <tr>\n",
       "      <th>1949-02-01</th>\n",
       "      <td>118</td>\n",
       "      <td>1949</td>\n",
       "      <td>2</td>\n",
       "    </tr>\n",
       "    <tr>\n",
       "      <th>1949-03-01</th>\n",
       "      <td>132</td>\n",
       "      <td>1949</td>\n",
       "      <td>3</td>\n",
       "    </tr>\n",
       "    <tr>\n",
       "      <th>1949-04-01</th>\n",
       "      <td>129</td>\n",
       "      <td>1949</td>\n",
       "      <td>4</td>\n",
       "    </tr>\n",
       "    <tr>\n",
       "      <th>1949-05-01</th>\n",
       "      <td>121</td>\n",
       "      <td>1949</td>\n",
       "      <td>5</td>\n",
       "    </tr>\n",
       "    <tr>\n",
       "      <th>...</th>\n",
       "      <td>...</td>\n",
       "      <td>...</td>\n",
       "      <td>...</td>\n",
       "    </tr>\n",
       "    <tr>\n",
       "      <th>1960-08-01</th>\n",
       "      <td>606</td>\n",
       "      <td>1960</td>\n",
       "      <td>8</td>\n",
       "    </tr>\n",
       "    <tr>\n",
       "      <th>1960-09-01</th>\n",
       "      <td>508</td>\n",
       "      <td>1960</td>\n",
       "      <td>9</td>\n",
       "    </tr>\n",
       "    <tr>\n",
       "      <th>1960-10-01</th>\n",
       "      <td>461</td>\n",
       "      <td>1960</td>\n",
       "      <td>10</td>\n",
       "    </tr>\n",
       "    <tr>\n",
       "      <th>1960-11-01</th>\n",
       "      <td>390</td>\n",
       "      <td>1960</td>\n",
       "      <td>11</td>\n",
       "    </tr>\n",
       "    <tr>\n",
       "      <th>1960-12-01</th>\n",
       "      <td>432</td>\n",
       "      <td>1960</td>\n",
       "      <td>12</td>\n",
       "    </tr>\n",
       "  </tbody>\n",
       "</table>\n",
       "<p>144 rows × 3 columns</p>\n",
       "</div>"
      ],
      "text/plain": [
       "            Passengers  year  month\n",
       "Month                              \n",
       "1949-01-01         112  1949      1\n",
       "1949-02-01         118  1949      2\n",
       "1949-03-01         132  1949      3\n",
       "1949-04-01         129  1949      4\n",
       "1949-05-01         121  1949      5\n",
       "...                ...   ...    ...\n",
       "1960-08-01         606  1960      8\n",
       "1960-09-01         508  1960      9\n",
       "1960-10-01         461  1960     10\n",
       "1960-11-01         390  1960     11\n",
       "1960-12-01         432  1960     12\n",
       "\n",
       "[144 rows x 3 columns]"
      ]
     },
     "execution_count": 6,
     "metadata": {},
     "output_type": "execute_result"
    }
   ],
   "source": [
    "df['year'] = [d.year for d in df.index]\n",
    "df['month'] = [d.month for d in df.index]\n",
    "df"
   ]
  },
  {
   "cell_type": "markdown",
   "id": "a67155da",
   "metadata": {},
   "source": [
    "### Boxplot visualization shows the upward trend, year after year"
   ]
  },
  {
   "cell_type": "code",
   "execution_count": 7,
   "id": "38585992",
   "metadata": {},
   "outputs": [
    {
     "data": {
      "text/plain": [
       "<AxesSubplot:xlabel='year', ylabel='Passengers'>"
      ]
     },
     "execution_count": 7,
     "metadata": {},
     "output_type": "execute_result"
    },
    {
     "data": {
      "image/png": "[encoded data removed]",
      "text/plain": [
       "<Figure size 432x288 with 1 Axes>"
      ]
     },
     "metadata": {
      "needs_background": "light"
     },
     "output_type": "display_data"
    }
   ],
   "source": [
    "sns.boxplot(x = 'year', y = 'Passengers', data = df)"
   ]
  },
  {
   "cell_type": "markdown",
   "id": "c22cb2c8",
   "metadata": {},
   "source": [
    "### Boxplot visualization shows the seasonal trend, month after month"
   ]
  },
  {
   "cell_type": "code",
   "execution_count": 8,
   "id": "8662e140",
   "metadata": {},
   "outputs": [
    {
     "data": {
      "text/plain": [
       "<AxesSubplot:xlabel='month', ylabel='Passengers'>"
      ]
     },
     "execution_count": 8,
     "metadata": {},
     "output_type": "execute_result"
    },
    {
     "data": {
      "image/png": "[encoded data removed]",
      "text/plain": [
       "<Figure size 432x288 with 1 Axes>"
      ]
     },
     "metadata": {
      "needs_background": "light"
     },
     "output_type": "display_data"
    }
   ],
   "source": [
    "sns.boxplot(x = 'month', y = 'Passengers', data = df)"
   ]
  },
  {
   "cell_type": "markdown",
   "id": "04db258e",
   "metadata": {},
   "source": [
    "### Decomposing the series to show original data, upward trend, seasonal variation, and residual"
   ]
  },
  {
   "cell_type": "code",
   "execution_count": 9,
   "id": "6b8f7d7a",
   "metadata": {},
   "outputs": [],
   "source": [
    "decomposed = seasonal_decompose(df['Passengers'], model = 'additive')"
   ]
  },
  {
   "cell_type": "code",
   "execution_count": 10,
   "id": "05ee377c",
   "metadata": {},
   "outputs": [
    {
     "data": {
      "image/png": "[encoded data removed]",
      "text/plain": [
       "<Figure size 864x576 with 4 Axes>"
      ]
     },
     "metadata": {
      "needs_background": "light"
     },
     "output_type": "display_data"
    }
   ],
   "source": [
    "trend = decomposed.trend\n",
    "seasonal = decomposed.seasonal\n",
    "residual = decomposed.resid\n",
    "\n",
    "plt.figure(figsize = (12, 8))\n",
    "plt.subplot(411)\n",
    "plt.plot(df['Passengers'], label = 'Original', color = 'red')\n",
    "plt.legend(loc = 'upper left')\n",
    "plt.subplot(412)\n",
    "plt.plot(trend, label = 'Trend', color = 'green')\n",
    "plt.legend(loc = 'upper left')\n",
    "plt.subplot(413)\n",
    "plt.plot(seasonal, label = 'Seasonal', color = 'blue')\n",
    "plt.legend(loc = 'upper left')\n",
    "plt.subplot(414)\n",
    "plt.plot(residual, label = 'Residual', color = 'purple')\n",
    "plt.legend(loc = 'upper left')\n",
    "plt.show()"
   ]
  },
  {
   "cell_type": "markdown",
   "id": "407f7e9e",
   "metadata": {},
   "source": [
    "# Building the ARIMA Model"
   ]
  },
  {
   "cell_type": "markdown",
   "id": "52de155a",
   "metadata": {},
   "source": [
    "###### The first step is to determine which model (and set of parameters) is the best to use. The simplest way is to use auto_arima, which runs through all the model & parameter scenarios for you."
   ]
  },
  {
   "cell_type": "code",
   "execution_count": 11,
   "id": "eed50df1",
   "metadata": {},
   "outputs": [
    {
     "name": "stdout",
     "output_type": "stream",
     "text": [
      "Performing stepwise search to minimize aic\n",
      " ARIMA(1,1,1)(0,1,0)[12]             : AIC=1022.393, Time=0.09 sec\n",
      " ARIMA(0,1,0)(0,1,0)[12]             : AIC=1031.508, Time=0.02 sec\n",
      " ARIMA(1,1,0)(1,1,0)[12]             : AIC=1020.393, Time=0.11 sec\n",
      " ARIMA(0,1,1)(0,1,1)[12]             : AIC=1021.003, Time=0.14 sec\n",
      " ARIMA(1,1,0)(0,1,0)[12]             : AIC=1020.393, Time=0.03 sec\n",
      " ARIMA(1,1,0)(2,1,0)[12]             : AIC=1019.239, Time=0.25 sec\n",
      " ARIMA(1,1,0)(3,1,0)[12]             : AIC=1020.582, Time=0.56 sec\n",
      " ARIMA(1,1,0)(2,1,1)[12]             : AIC=inf, Time=1.59 sec\n",
      " ARIMA(1,1,0)(1,1,1)[12]             : AIC=1020.493, Time=0.22 sec\n",
      " ARIMA(1,1,0)(3,1,1)[12]             : AIC=inf, Time=3.27 sec\n",
      " ARIMA(0,1,0)(2,1,0)[12]             : AIC=1032.120, Time=0.14 sec\n",
      " ARIMA(2,1,0)(2,1,0)[12]             : AIC=1021.120, Time=0.29 sec\n",
      " ARIMA(1,1,1)(2,1,0)[12]             : AIC=1021.032, Time=0.39 sec\n",
      " ARIMA(0,1,1)(2,1,0)[12]             : AIC=1019.178, Time=0.25 sec\n",
      " ARIMA(0,1,1)(1,1,0)[12]             : AIC=1020.425, Time=0.09 sec\n",
      " ARIMA(0,1,1)(3,1,0)[12]             : AIC=1020.372, Time=0.47 sec\n",
      " ARIMA(0,1,1)(2,1,1)[12]             : AIC=inf, Time=1.19 sec\n",
      " ARIMA(0,1,1)(1,1,1)[12]             : AIC=1020.327, Time=0.33 sec\n",
      " ARIMA(0,1,1)(3,1,1)[12]             : AIC=inf, Time=3.30 sec\n",
      " ARIMA(0,1,2)(2,1,0)[12]             : AIC=1021.148, Time=0.26 sec\n",
      " ARIMA(1,1,2)(2,1,0)[12]             : AIC=1022.805, Time=0.50 sec\n",
      " ARIMA(0,1,1)(2,1,0)[12] intercept   : AIC=1021.017, Time=0.37 sec\n",
      "\n",
      "Best model:  ARIMA(0,1,1)(2,1,0)[12]          \n",
      "Total fit time: 13.882 seconds\n",
      "                                      SARIMAX Results                                      \n",
      "===========================================================================================\n",
      "Dep. Variable:                                   y   No. Observations:                  144\n",
      "Model:             SARIMAX(0, 1, 1)x(2, 1, [], 12)   Log Likelihood                -505.589\n",
      "Date:                             Sat, 12 Feb 2022   AIC                           1019.178\n",
      "Time:                                     13:13:41   BIC                           1030.679\n",
      "Sample:                                          0   HQIC                          1023.851\n",
      "                                             - 144                                         \n",
      "Covariance Type:                               opg                                         \n",
      "==============================================================================\n",
      "                 coef    std err          z      P>|z|      [0.025      0.975]\n",
      "------------------------------------------------------------------------------\n",
      "ma.L1         -0.3634      0.074     -4.945      0.000      -0.508      -0.219\n",
      "ar.S.L12      -0.1239      0.090     -1.372      0.170      -0.301       0.053\n",
      "ar.S.L24       0.1911      0.107      1.783      0.075      -0.019       0.401\n",
      "sigma2       130.4480     15.527      8.402      0.000     100.016     160.880\n",
      "===================================================================================\n",
      "Ljung-Box (L1) (Q):                   0.01   Jarque-Bera (JB):                 4.59\n",
      "Prob(Q):                              0.92   Prob(JB):                         0.10\n",
      "Heteroskedasticity (H):               2.70   Skew:                             0.15\n",
      "Prob(H) (two-sided):                  0.00   Kurtosis:                         3.87\n",
      "===================================================================================\n",
      "\n",
      "Warnings:\n",
      "[1] Covariance matrix calculated using the outer product of gradients (complex-step).\n"
     ]
    }
   ],
   "source": [
    "arima_model = auto_arima(df['Passengers'], start_p = 1, d = 1, start_q = 1,\n",
    "                        max_p = 5, max_q = 5, max_d = 5, m = 12,\n",
    "                        start_P = 0, D = 1, start_Q = 0, max_P = 5, max_D = 5, \n",
    "                        max_Q = 5, seasonal = True, trace = True,\n",
    "                        error_action = 'ignore', suppress_warnings = True,\n",
    "                        stepwise = True, n_fits = 50)\n",
    "print(arima_model.summary())"
   ]
  },
  {
   "cell_type": "markdown",
   "id": "f0cbfb18",
   "metadata": {},
   "source": [
    "###### The result is the SARIMA (Seasonal ARIMA) model, with parameters (0, 1, 1), (2, 1, 0), [12]"
   ]
  },
  {
   "cell_type": "markdown",
   "id": "c5f33a0e",
   "metadata": {},
   "source": [
    "###### Now plot the diagnostics. The residual errors (upper left) fluctuate around a mean of zero and have a uniform variance. The density plot (upper right) suggest a normal distribution with a mean of zero. The dots in the scatterplot (lower left) align with the red line, whereas any significant deviations would imply a skewness in the distribution. The correlogram (lower right) shows the residual errors are not correlated (any autocorrelation would imply a patter in the residual errors not explained in the model)."
   ]
  },
  {
   "cell_type": "code",
   "execution_count": 12,
   "id": "aa8112bc",
   "metadata": {},
   "outputs": [
    {
     "data": {
      "image/png": "[encoded data removed]",
      "text/plain": [
       "<Figure size 864x432 with 4 Axes>"
      ]
     },
     "metadata": {
      "needs_background": "light"
     },
     "output_type": "display_data"
    }
   ],
   "source": [
    "arima_model.plot_diagnostics(figsize = (12, 6))\n",
    "plt.show()"
   ]
  },
  {
   "cell_type": "markdown",
   "id": "c0a68381",
   "metadata": {},
   "source": [
    "### Split into train and test"
   ]
  },
  {
   "cell_type": "code",
   "execution_count": 13,
   "id": "0105ed3e",
   "metadata": {},
   "outputs": [],
   "source": [
    "size = int(len(df) * 0.66)\n",
    "x_train, x_test = df['Passengers'][0:size], df['Passengers'][size:len(df)]"
   ]
  },
  {
   "cell_type": "code",
   "execution_count": 14,
   "id": "cf1e5029",
   "metadata": {},
   "outputs": [
    {
     "name": "stderr",
     "output_type": "stream",
     "text": [
      "C:\\Users\\lawto\\anaconda3\\lib\\site-packages\\statsmodels\\tsa\\base\\tsa_model.py:524: ValueWarning: No frequency information was provided, so inferred frequency MS will be used.\n",
      "  warnings.warn('No frequency information was'\n",
      "C:\\Users\\lawto\\anaconda3\\lib\\site-packages\\statsmodels\\tsa\\base\\tsa_model.py:524: ValueWarning: No frequency information was provided, so inferred frequency MS will be used.\n",
      "  warnings.warn('No frequency information was'\n"
     ]
    },
    {
     "data": {
      "text/html": [
       "<table class=\"simpletable\">\n",
       "<caption>SARIMAX Results</caption>\n",
       "<tr>\n",
       "  <th>Dep. Variable:</th>             <td>Passengers</td>            <th>  No. Observations:  </th>    <td>95</td>   \n",
       "</tr>\n",
       "<tr>\n",
       "  <th>Model:</th>           <td>SARIMAX(0, 1, 1)x(2, 1, [], 12)</td> <th>  Log Likelihood     </th> <td>-301.702</td>\n",
       "</tr>\n",
       "<tr>\n",
       "  <th>Date:</th>                   <td>Sat, 12 Feb 2022</td>         <th>  AIC                </th>  <td>611.404</td>\n",
       "</tr>\n",
       "<tr>\n",
       "  <th>Time:</th>                       <td>13:13:41</td>             <th>  BIC                </th>  <td>621.031</td>\n",
       "</tr>\n",
       "<tr>\n",
       "  <th>Sample:</th>                    <td>01-01-1949</td>            <th>  HQIC               </th>  <td>615.270</td>\n",
       "</tr>\n",
       "<tr>\n",
       "  <th></th>                          <td>- 11-01-1956</td>           <th>                     </th>     <td> </td>   \n",
       "</tr>\n",
       "<tr>\n",
       "  <th>Covariance Type:</th>               <td>opg</td>               <th>                     </th>     <td> </td>   \n",
       "</tr>\n",
       "</table>\n",
       "<table class=\"simpletable\">\n",
       "<tr>\n",
       "      <td></td>        <th>coef</th>     <th>std err</th>      <th>z</th>      <th>P>|z|</th>  <th>[0.025</th>    <th>0.975]</th>  \n",
       "</tr>\n",
       "<tr>\n",
       "  <th>ma.L1</th>    <td>   -0.2597</td> <td>    0.104</td> <td>   -2.503</td> <td> 0.012</td> <td>   -0.463</td> <td>   -0.056</td>\n",
       "</tr>\n",
       "<tr>\n",
       "  <th>ar.S.L12</th> <td>   -0.2033</td> <td>    0.111</td> <td>   -1.829</td> <td> 0.067</td> <td>   -0.421</td> <td>    0.015</td>\n",
       "</tr>\n",
       "<tr>\n",
       "  <th>ar.S.L24</th> <td>    0.0548</td> <td>    0.126</td> <td>    0.435</td> <td> 0.663</td> <td>   -0.192</td> <td>    0.302</td>\n",
       "</tr>\n",
       "<tr>\n",
       "  <th>sigma2</th>   <td>   91.1088</td> <td>   15.146</td> <td>    6.015</td> <td> 0.000</td> <td>   61.423</td> <td>  120.795</td>\n",
       "</tr>\n",
       "</table>\n",
       "<table class=\"simpletable\">\n",
       "<tr>\n",
       "  <th>Ljung-Box (L1) (Q):</th>     <td>0.00</td> <th>  Jarque-Bera (JB):  </th> <td>2.30</td>\n",
       "</tr>\n",
       "<tr>\n",
       "  <th>Prob(Q):</th>                <td>0.99</td> <th>  Prob(JB):          </th> <td>0.32</td>\n",
       "</tr>\n",
       "<tr>\n",
       "  <th>Heteroskedasticity (H):</th> <td>1.75</td> <th>  Skew:              </th> <td>0.39</td>\n",
       "</tr>\n",
       "<tr>\n",
       "  <th>Prob(H) (two-sided):</th>    <td>0.15</td> <th>  Kurtosis:          </th> <td>2.75</td>\n",
       "</tr>\n",
       "</table><br/><br/>Warnings:<br/>[1] Covariance matrix calculated using the outer product of gradients (complex-step)."
      ],
      "text/plain": [
       "<class 'statsmodels.iolib.summary.Summary'>\n",
       "\"\"\"\n",
       "                                      SARIMAX Results                                      \n",
       "===========================================================================================\n",
       "Dep. Variable:                          Passengers   No. Observations:                   95\n",
       "Model:             SARIMAX(0, 1, 1)x(2, 1, [], 12)   Log Likelihood                -301.702\n",
       "Date:                             Sat, 12 Feb 2022   AIC                            611.404\n",
       "Time:                                     13:13:41   BIC                            621.031\n",
       "Sample:                                 01-01-1949   HQIC                           615.270\n",
       "                                      - 11-01-1956                                         \n",
       "Covariance Type:                               opg                                         \n",
       "==============================================================================\n",
       "                 coef    std err          z      P>|z|      [0.025      0.975]\n",
       "------------------------------------------------------------------------------\n",
       "ma.L1         -0.2597      0.104     -2.503      0.012      -0.463      -0.056\n",
       "ar.S.L12      -0.2033      0.111     -1.829      0.067      -0.421       0.015\n",
       "ar.S.L24       0.0548      0.126      0.435      0.663      -0.192       0.302\n",
       "sigma2        91.1088     15.146      6.015      0.000      61.423     120.795\n",
       "===================================================================================\n",
       "Ljung-Box (L1) (Q):                   0.00   Jarque-Bera (JB):                 2.30\n",
       "Prob(Q):                              0.99   Prob(JB):                         0.32\n",
       "Heteroskedasticity (H):               1.75   Skew:                             0.39\n",
       "Prob(H) (two-sided):                  0.15   Kurtosis:                         2.75\n",
       "===================================================================================\n",
       "\n",
       "Warnings:\n",
       "[1] Covariance matrix calculated using the outer product of gradients (complex-step).\n",
       "\"\"\""
      ]
     },
     "execution_count": 14,
     "metadata": {},
     "output_type": "execute_result"
    }
   ],
   "source": [
    "model = SARIMAX(x_train, order = (0, 1, 1), seasonal_order = (2, 1, 0, 12))\n",
    "result = model.fit()\n",
    "result.summary()"
   ]
  },
  {
   "cell_type": "markdown",
   "id": "197e4b43",
   "metadata": {},
   "source": [
    "### Training Data"
   ]
  },
  {
   "cell_type": "code",
   "execution_count": 15,
   "id": "392b1658",
   "metadata": {},
   "outputs": [
    {
     "data": {
      "text/plain": [
       "1949-01-01      0.000000\n",
       "1949-02-01    111.998607\n",
       "1949-03-01    117.999851\n",
       "1949-04-01    131.999652\n",
       "1949-05-01    129.000075\n",
       "Freq: MS, Name: predicted_mean, dtype: float64"
      ]
     },
     "execution_count": 15,
     "metadata": {},
     "output_type": "execute_result"
    }
   ],
   "source": [
    "start_index = 0\n",
    "end_index = len(x_train) - 1\n",
    "train_prediction = result.predict(start_index, end_index)\n",
    "train_prediction.head()"
   ]
  },
  {
   "cell_type": "markdown",
   "id": "a56422f1",
   "metadata": {},
   "source": [
    "### Testing Data"
   ]
  },
  {
   "cell_type": "code",
   "execution_count": 16,
   "id": "7b85c408",
   "metadata": {},
   "outputs": [
    {
     "data": {
      "text/plain": [
       "1956-12-01    310.429023\n",
       "1957-01-01    318.400465\n",
       "1957-02-01    311.377580\n",
       "1957-03-01    349.444991\n",
       "1957-04-01    347.213116\n",
       "Freq: MS, Name: predicted_mean, dtype: float64"
      ]
     },
     "execution_count": 16,
     "metadata": {},
     "output_type": "execute_result"
    }
   ],
   "source": [
    "start_index = len(x_train)\n",
    "end_index = len(df) - 1\n",
    "test_prediction = result.predict(start_index, end_index)\n",
    "test_prediction.head()"
   ]
  },
  {
   "cell_type": "markdown",
   "id": "338b2b2f",
   "metadata": {},
   "source": [
    "### Plot Predicted versus Actual"
   ]
  },
  {
   "cell_type": "code",
   "execution_count": 17,
   "id": "b619f267",
   "metadata": {},
   "outputs": [
    {
     "data": {
      "text/plain": [
       "<AxesSubplot:xlabel='Month'>"
      ]
     },
     "execution_count": 17,
     "metadata": {},
     "output_type": "execute_result"
    },
    {
     "data": {
      "image/png": "[encoded data removed]",
      "text/plain": [
       "<Figure size 432x288 with 1 Axes>"
      ]
     },
     "metadata": {
      "needs_background": "light"
     },
     "output_type": "display_data"
    }
   ],
   "source": [
    "test_prediction.plot(legend = True)\n",
    "x_test.plot(legend = True)"
   ]
  },
  {
   "cell_type": "code",
   "execution_count": 18,
   "id": "f186eb44",
   "metadata": {},
   "outputs": [
    {
     "name": "stdout",
     "output_type": "stream",
     "text": [
      "Train Score = 16.24 RMSE\n",
      "Test Score = 24.81 RMSE \n"
     ]
    }
   ],
   "source": [
    "train_score = math.sqrt(mean_squared_error(x_train, train_prediction))\n",
    "print('Train Score = %.2f RMSE' % train_score)\n",
    "test_score = math.sqrt(mean_squared_error(x_test, test_prediction))\n",
    "print('Test Score = %.2f RMSE ' % test_score)"
   ]
  },
  {
   "cell_type": "markdown",
   "id": "378154cb",
   "metadata": {},
   "source": [
    "### Forecasting"
   ]
  },
  {
   "cell_type": "code",
   "execution_count": 19,
   "id": "8a6cbe44",
   "metadata": {},
   "outputs": [],
   "source": [
    "forecast = result.predict(start = len(df), end = (len(df) - 1) + 3 * 12, typ = 'levels').rename('Forecast')"
   ]
  },
  {
   "cell_type": "code",
   "execution_count": 20,
   "id": "cb029303",
   "metadata": {},
   "outputs": [
    {
     "data": {
      "image/png": "[encoded data removed]",
      "text/plain": [
       "<Figure size 864x576 with 1 Axes>"
      ]
     },
     "metadata": {
      "needs_background": "light"
     },
     "output_type": "display_data"
    }
   ],
   "source": [
    "plt.figure(figsize = (12, 8))\n",
    "plt.plot(x_train, label = 'Training', color = 'green')\n",
    "plt.plot(x_test, label = 'Testing', color = 'cyan')\n",
    "plt.plot(forecast, label = 'Forecast', color = 'orange')\n",
    "plt.legend(loc = 'upper left')\n",
    "plt.show()"
   ]
  },
  {
   "cell_type": "markdown",
   "id": "0bbbceb2",
   "metadata": {},
   "source": [
    "# Building the Neural Network Model"
   ]
  },
  {
   "cell_type": "markdown",
   "id": "6fe6ef22",
   "metadata": {},
   "source": [
    "### Reload the dataset, but skip the date column"
   ]
  },
  {
   "cell_type": "code",
   "execution_count": 21,
   "id": "17c50c96",
   "metadata": {},
   "outputs": [
    {
     "data": {
      "text/html": [
       "<div>\n",
       "<style scoped>\n",
       "    .dataframe tbody tr th:only-of-type {\n",
       "        vertical-align: middle;\n",
       "    }\n",
       "\n",
       "    .dataframe tbody tr th {\n",
       "        vertical-align: top;\n",
       "    }\n",
       "\n",
       "    .dataframe thead th {\n",
       "        text-align: right;\n",
       "    }\n",
       "</style>\n",
       "<table border=\"1\" class=\"dataframe\">\n",
       "  <thead>\n",
       "    <tr style=\"text-align: right;\">\n",
       "      <th></th>\n",
       "      <th>Passengers</th>\n",
       "    </tr>\n",
       "  </thead>\n",
       "  <tbody>\n",
       "    <tr>\n",
       "      <th>0</th>\n",
       "      <td>112</td>\n",
       "    </tr>\n",
       "    <tr>\n",
       "      <th>1</th>\n",
       "      <td>118</td>\n",
       "    </tr>\n",
       "    <tr>\n",
       "      <th>2</th>\n",
       "      <td>132</td>\n",
       "    </tr>\n",
       "    <tr>\n",
       "      <th>3</th>\n",
       "      <td>129</td>\n",
       "    </tr>\n",
       "    <tr>\n",
       "      <th>4</th>\n",
       "      <td>121</td>\n",
       "    </tr>\n",
       "  </tbody>\n",
       "</table>\n",
       "</div>"
      ],
      "text/plain": [
       "   Passengers\n",
       "0         112\n",
       "1         118\n",
       "2         132\n",
       "3         129\n",
       "4         121"
      ]
     },
     "execution_count": 21,
     "metadata": {},
     "output_type": "execute_result"
    }
   ],
   "source": [
    "df = pd.read_csv('airpassengers.csv', usecols = [1])\n",
    "df.head()"
   ]
  },
  {
   "cell_type": "markdown",
   "id": "d95f57f6",
   "metadata": {},
   "source": [
    "### Change to a numpy array, and convert to float type"
   ]
  },
  {
   "cell_type": "code",
   "execution_count": 22,
   "id": "069af730",
   "metadata": {},
   "outputs": [],
   "source": [
    "dataset = df.values\n",
    "dataset = dataset.astype('float32')"
   ]
  },
  {
   "cell_type": "markdown",
   "id": "ed08b071",
   "metadata": {},
   "source": [
    "### Scale everything so all data points fall between 0 and 1"
   ]
  },
  {
   "cell_type": "code",
   "execution_count": 23,
   "id": "c8683515",
   "metadata": {},
   "outputs": [],
   "source": [
    "scaler = MinMaxScaler(feature_range = (0, 1))\n",
    "dataset = scaler.fit_transform(dataset)"
   ]
  },
  {
   "cell_type": "markdown",
   "id": "78b323cc",
   "metadata": {},
   "source": [
    "### Split into training and testing"
   ]
  },
  {
   "cell_type": "code",
   "execution_count": 24,
   "id": "263558cc",
   "metadata": {},
   "outputs": [],
   "source": [
    "train_size = int(len(dataset) * 0.66)\n",
    "test_size = len(dataset) - train_size\n",
    "train, test = dataset[0:train_size, :], dataset[train_size:len(dataset), :]"
   ]
  },
  {
   "cell_type": "code",
   "execution_count": 25,
   "id": "e271d787",
   "metadata": {},
   "outputs": [],
   "source": [
    "def to_sequences(dataset, seq_size = 1):\n",
    "    x = []\n",
    "    y = []\n",
    "    for i in range(len(dataset) - seq_size - 1):\n",
    "        window = dataset[i:(i + seq_size), 0]\n",
    "        x.append(window)\n",
    "        y.append(dataset[i + seq_size, 0])\n",
    "    return np.array(x), np.array(y)"
   ]
  },
  {
   "cell_type": "markdown",
   "id": "e571803c",
   "metadata": {},
   "source": [
    "###### Create a moving window of 5 (or whatever) data points in order to predict the 6th"
   ]
  },
  {
   "cell_type": "code",
   "execution_count": 35,
   "id": "ad1d5c1b",
   "metadata": {},
   "outputs": [],
   "source": [
    "# The number of time units to look back\n",
    "# larger sequence sizes (looking further back) may improve forecasting\n",
    "seq_size = 8\n",
    "trainx, trainy = to_sequences(train, seq_size)\n",
    "testx, testy = to_sequences(test, seq_size)"
   ]
  },
  {
   "cell_type": "markdown",
   "id": "e5008782",
   "metadata": {},
   "source": [
    "### Define the neural network model"
   ]
  },
  {
   "cell_type": "code",
   "execution_count": 36,
   "id": "ee620264",
   "metadata": {},
   "outputs": [
    {
     "name": "stdout",
     "output_type": "stream",
     "text": [
      "Model: \"sequential_1\"\n",
      "_________________________________________________________________\n",
      "Layer (type)                 Output Shape              Param #   \n",
      "=================================================================\n",
      "dense_3 (Dense)              (None, 64)                576       \n",
      "_________________________________________________________________\n",
      "dense_4 (Dense)              (None, 32)                2080      \n",
      "_________________________________________________________________\n",
      "dense_5 (Dense)              (None, 1)                 33        \n",
      "=================================================================\n",
      "Total params: 2,689\n",
      "Trainable params: 2,689\n",
      "Non-trainable params: 0\n",
      "_________________________________________________________________\n",
      "None\n"
     ]
    }
   ],
   "source": [
    "model = Sequential()\n",
    "model.add(Dense(64, input_dim = seq_size, activation = 'relu'))\n",
    "model.add(Dense(32, activation = 'relu'))\n",
    "model.add(Dense(1))\n",
    "model.compile(loss = 'mean_squared_error', optimizer = 'adam', metrics = ['acc'])\n",
    "print(model.summary())"
   ]
  },
  {
   "cell_type": "code",
   "execution_count": 37,
   "id": "61dc87a0",
   "metadata": {},
   "outputs": [
    {
     "name": "stdout",
     "output_type": "stream",
     "text": [
      "Epoch 1/100\n",
      "3/3 - 0s - loss: 0.0120 - acc: 0.0116 - val_loss: 0.0280 - val_acc: 0.0250\n",
      "Epoch 2/100\n",
      "3/3 - 0s - loss: 0.0054 - acc: 0.0116 - val_loss: 0.0295 - val_acc: 0.0250\n",
      "Epoch 3/100\n",
      "3/3 - 0s - loss: 0.0062 - acc: 0.0116 - val_loss: 0.0256 - val_acc: 0.0250\n",
      "Epoch 4/100\n",
      "3/3 - 0s - loss: 0.0048 - acc: 0.0116 - val_loss: 0.0177 - val_acc: 0.0250\n",
      "Epoch 5/100\n",
      "3/3 - 0s - loss: 0.0036 - acc: 0.0116 - val_loss: 0.0191 - val_acc: 0.0250\n",
      "Epoch 6/100\n",
      "3/3 - 0s - loss: 0.0038 - acc: 0.0116 - val_loss: 0.0196 - val_acc: 0.0250\n",
      "Epoch 7/100\n",
      "3/3 - 0s - loss: 0.0037 - acc: 0.0116 - val_loss: 0.0157 - val_acc: 0.0250\n",
      "Epoch 8/100\n",
      "3/3 - 0s - loss: 0.0030 - acc: 0.0116 - val_loss: 0.0135 - val_acc: 0.0250\n",
      "Epoch 9/100\n",
      "3/3 - 0s - loss: 0.0029 - acc: 0.0116 - val_loss: 0.0135 - val_acc: 0.0250\n",
      "Epoch 10/100\n",
      "3/3 - 0s - loss: 0.0029 - acc: 0.0116 - val_loss: 0.0125 - val_acc: 0.0250\n",
      "Epoch 11/100\n",
      "3/3 - 0s - loss: 0.0026 - acc: 0.0116 - val_loss: 0.0121 - val_acc: 0.0250\n",
      "Epoch 12/100\n",
      "3/3 - 0s - loss: 0.0025 - acc: 0.0116 - val_loss: 0.0123 - val_acc: 0.0250\n",
      "Epoch 13/100\n",
      "3/3 - 0s - loss: 0.0025 - acc: 0.0116 - val_loss: 0.0114 - val_acc: 0.0250\n",
      "Epoch 14/100\n",
      "3/3 - 0s - loss: 0.0024 - acc: 0.0116 - val_loss: 0.0108 - val_acc: 0.0250\n",
      "Epoch 15/100\n",
      "3/3 - 0s - loss: 0.0023 - acc: 0.0116 - val_loss: 0.0103 - val_acc: 0.0250\n",
      "Epoch 16/100\n",
      "3/3 - 0s - loss: 0.0022 - acc: 0.0116 - val_loss: 0.0098 - val_acc: 0.0250\n",
      "Epoch 17/100\n",
      "3/3 - 0s - loss: 0.0021 - acc: 0.0116 - val_loss: 0.0098 - val_acc: 0.0250\n",
      "Epoch 18/100\n",
      "3/3 - 0s - loss: 0.0021 - acc: 0.0116 - val_loss: 0.0090 - val_acc: 0.0250\n",
      "Epoch 19/100\n",
      "3/3 - 0s - loss: 0.0019 - acc: 0.0116 - val_loss: 0.0085 - val_acc: 0.0250\n",
      "Epoch 20/100\n",
      "3/3 - 0s - loss: 0.0019 - acc: 0.0116 - val_loss: 0.0083 - val_acc: 0.0250\n",
      "Epoch 21/100\n",
      "3/3 - 0s - loss: 0.0018 - acc: 0.0116 - val_loss: 0.0081 - val_acc: 0.0250\n",
      "Epoch 22/100\n",
      "3/3 - 0s - loss: 0.0018 - acc: 0.0116 - val_loss: 0.0081 - val_acc: 0.0250\n",
      "Epoch 23/100\n",
      "3/3 - 0s - loss: 0.0018 - acc: 0.0116 - val_loss: 0.0076 - val_acc: 0.0250\n",
      "Epoch 24/100\n",
      "3/3 - 0s - loss: 0.0017 - acc: 0.0116 - val_loss: 0.0075 - val_acc: 0.0250\n",
      "Epoch 25/100\n",
      "3/3 - 0s - loss: 0.0017 - acc: 0.0116 - val_loss: 0.0072 - val_acc: 0.0250\n",
      "Epoch 26/100\n",
      "3/3 - 0s - loss: 0.0017 - acc: 0.0116 - val_loss: 0.0071 - val_acc: 0.0250\n",
      "Epoch 27/100\n",
      "3/3 - 0s - loss: 0.0017 - acc: 0.0116 - val_loss: 0.0071 - val_acc: 0.0250\n",
      "Epoch 28/100\n",
      "3/3 - 0s - loss: 0.0016 - acc: 0.0116 - val_loss: 0.0069 - val_acc: 0.0250\n",
      "Epoch 29/100\n",
      "3/3 - 0s - loss: 0.0016 - acc: 0.0116 - val_loss: 0.0068 - val_acc: 0.0250\n",
      "Epoch 30/100\n",
      "3/3 - 0s - loss: 0.0015 - acc: 0.0116 - val_loss: 0.0069 - val_acc: 0.0250\n",
      "Epoch 31/100\n",
      "3/3 - 0s - loss: 0.0016 - acc: 0.0116 - val_loss: 0.0067 - val_acc: 0.0250\n",
      "Epoch 32/100\n",
      "3/3 - 0s - loss: 0.0015 - acc: 0.0116 - val_loss: 0.0068 - val_acc: 0.0250\n",
      "Epoch 33/100\n",
      "3/3 - 0s - loss: 0.0015 - acc: 0.0116 - val_loss: 0.0065 - val_acc: 0.0250\n",
      "Epoch 34/100\n",
      "3/3 - 0s - loss: 0.0015 - acc: 0.0116 - val_loss: 0.0065 - val_acc: 0.0250\n",
      "Epoch 35/100\n",
      "3/3 - 0s - loss: 0.0014 - acc: 0.0116 - val_loss: 0.0064 - val_acc: 0.0250\n",
      "Epoch 36/100\n",
      "3/3 - 0s - loss: 0.0014 - acc: 0.0116 - val_loss: 0.0064 - val_acc: 0.0250\n",
      "Epoch 37/100\n",
      "3/3 - 0s - loss: 0.0014 - acc: 0.0116 - val_loss: 0.0060 - val_acc: 0.0250\n",
      "Epoch 38/100\n",
      "3/3 - 0s - loss: 0.0013 - acc: 0.0116 - val_loss: 0.0062 - val_acc: 0.0250\n",
      "Epoch 39/100\n",
      "3/3 - 0s - loss: 0.0013 - acc: 0.0116 - val_loss: 0.0059 - val_acc: 0.0250\n",
      "Epoch 40/100\n",
      "3/3 - 0s - loss: 0.0013 - acc: 0.0116 - val_loss: 0.0058 - val_acc: 0.0250\n",
      "Epoch 41/100\n",
      "3/3 - 0s - loss: 0.0012 - acc: 0.0116 - val_loss: 0.0058 - val_acc: 0.0250\n",
      "Epoch 42/100\n",
      "3/3 - 0s - loss: 0.0012 - acc: 0.0116 - val_loss: 0.0059 - val_acc: 0.0250\n",
      "Epoch 43/100\n",
      "3/3 - 0s - loss: 0.0013 - acc: 0.0116 - val_loss: 0.0056 - val_acc: 0.0250\n",
      "Epoch 44/100\n",
      "3/3 - 0s - loss: 0.0012 - acc: 0.0116 - val_loss: 0.0055 - val_acc: 0.0250\n",
      "Epoch 45/100\n",
      "3/3 - 0s - loss: 0.0012 - acc: 0.0116 - val_loss: 0.0057 - val_acc: 0.0250\n",
      "Epoch 46/100\n",
      "3/3 - 0s - loss: 0.0011 - acc: 0.0116 - val_loss: 0.0054 - val_acc: 0.0250\n",
      "Epoch 47/100\n",
      "3/3 - 0s - loss: 0.0012 - acc: 0.0116 - val_loss: 0.0052 - val_acc: 0.0250\n",
      "Epoch 48/100\n",
      "3/3 - 0s - loss: 0.0011 - acc: 0.0116 - val_loss: 0.0055 - val_acc: 0.0250\n",
      "Epoch 49/100\n",
      "3/3 - 0s - loss: 0.0011 - acc: 0.0116 - val_loss: 0.0052 - val_acc: 0.0250\n",
      "Epoch 50/100\n",
      "3/3 - 0s - loss: 0.0011 - acc: 0.0116 - val_loss: 0.0052 - val_acc: 0.0250\n",
      "Epoch 51/100\n",
      "3/3 - 0s - loss: 0.0011 - acc: 0.0116 - val_loss: 0.0052 - val_acc: 0.0250\n",
      "Epoch 52/100\n",
      "3/3 - 0s - loss: 0.0012 - acc: 0.0116 - val_loss: 0.0052 - val_acc: 0.0250\n",
      "Epoch 53/100\n",
      "3/3 - 0s - loss: 0.0011 - acc: 0.0116 - val_loss: 0.0050 - val_acc: 0.0250\n",
      "Epoch 54/100\n",
      "3/3 - 0s - loss: 0.0011 - acc: 0.0116 - val_loss: 0.0049 - val_acc: 0.0250\n",
      "Epoch 55/100\n",
      "3/3 - 0s - loss: 9.9839e-04 - acc: 0.0116 - val_loss: 0.0053 - val_acc: 0.0250\n",
      "Epoch 56/100\n",
      "3/3 - 0s - loss: 0.0011 - acc: 0.0116 - val_loss: 0.0048 - val_acc: 0.0250\n",
      "Epoch 57/100\n",
      "3/3 - 2s - loss: 0.0010 - acc: 0.0116 - val_loss: 0.0048 - val_acc: 0.0250\n",
      "Epoch 58/100\n",
      "3/3 - 0s - loss: 0.0010 - acc: 0.0116 - val_loss: 0.0048 - val_acc: 0.0250\n",
      "Epoch 59/100\n",
      "3/3 - 0s - loss: 0.0011 - acc: 0.0116 - val_loss: 0.0047 - val_acc: 0.0250\n",
      "Epoch 60/100\n",
      "3/3 - 0s - loss: 0.0010 - acc: 0.0116 - val_loss: 0.0047 - val_acc: 0.0250\n",
      "Epoch 61/100\n",
      "3/3 - 0s - loss: 0.0010 - acc: 0.0116 - val_loss: 0.0049 - val_acc: 0.0250\n",
      "Epoch 62/100\n",
      "3/3 - 0s - loss: 9.7000e-04 - acc: 0.0116 - val_loss: 0.0045 - val_acc: 0.0250\n",
      "Epoch 63/100\n",
      "3/3 - 0s - loss: 9.6597e-04 - acc: 0.0116 - val_loss: 0.0045 - val_acc: 0.0250\n",
      "Epoch 64/100\n",
      "3/3 - 0s - loss: 9.4964e-04 - acc: 0.0116 - val_loss: 0.0044 - val_acc: 0.0250\n",
      "Epoch 65/100\n",
      "3/3 - 0s - loss: 9.4665e-04 - acc: 0.0116 - val_loss: 0.0047 - val_acc: 0.0250\n",
      "Epoch 66/100\n",
      "3/3 - 0s - loss: 9.4965e-04 - acc: 0.0116 - val_loss: 0.0043 - val_acc: 0.0250\n",
      "Epoch 67/100\n",
      "3/3 - 0s - loss: 9.4627e-04 - acc: 0.0116 - val_loss: 0.0044 - val_acc: 0.0250\n",
      "Epoch 68/100\n",
      "3/3 - 0s - loss: 9.3112e-04 - acc: 0.0116 - val_loss: 0.0046 - val_acc: 0.0250\n",
      "Epoch 69/100\n",
      "3/3 - 0s - loss: 9.0330e-04 - acc: 0.0116 - val_loss: 0.0043 - val_acc: 0.0250\n",
      "Epoch 70/100\n",
      "3/3 - 0s - loss: 8.9917e-04 - acc: 0.0116 - val_loss: 0.0042 - val_acc: 0.0250\n",
      "Epoch 71/100\n",
      "3/3 - 0s - loss: 8.6981e-04 - acc: 0.0116 - val_loss: 0.0044 - val_acc: 0.0250\n",
      "Epoch 72/100\n",
      "3/3 - 0s - loss: 8.6818e-04 - acc: 0.0116 - val_loss: 0.0041 - val_acc: 0.0250\n",
      "Epoch 73/100\n",
      "3/3 - 0s - loss: 8.7701e-04 - acc: 0.0116 - val_loss: 0.0041 - val_acc: 0.0250\n",
      "Epoch 74/100\n",
      "3/3 - 0s - loss: 8.1168e-04 - acc: 0.0116 - val_loss: 0.0045 - val_acc: 0.0250\n",
      "Epoch 75/100\n",
      "3/3 - 0s - loss: 8.9317e-04 - acc: 0.0116 - val_loss: 0.0044 - val_acc: 0.0250\n",
      "Epoch 76/100\n",
      "3/3 - 0s - loss: 8.2651e-04 - acc: 0.0116 - val_loss: 0.0041 - val_acc: 0.0250\n",
      "Epoch 77/100\n",
      "3/3 - 0s - loss: 8.7057e-04 - acc: 0.0116 - val_loss: 0.0041 - val_acc: 0.0250\n",
      "Epoch 78/100\n",
      "3/3 - 0s - loss: 9.1854e-04 - acc: 0.0116 - val_loss: 0.0047 - val_acc: 0.0250\n",
      "Epoch 79/100\n",
      "3/3 - 0s - loss: 9.1507e-04 - acc: 0.0116 - val_loss: 0.0041 - val_acc: 0.0250\n",
      "Epoch 80/100\n",
      "3/3 - 0s - loss: 8.7332e-04 - acc: 0.0116 - val_loss: 0.0042 - val_acc: 0.0250\n",
      "Epoch 81/100\n",
      "3/3 - 0s - loss: 8.5454e-04 - acc: 0.0116 - val_loss: 0.0044 - val_acc: 0.0250\n",
      "Epoch 82/100\n",
      "3/3 - 0s - loss: 7.9490e-04 - acc: 0.0116 - val_loss: 0.0040 - val_acc: 0.0250\n",
      "Epoch 83/100\n",
      "3/3 - 0s - loss: 8.8449e-04 - acc: 0.0116 - val_loss: 0.0039 - val_acc: 0.0250\n",
      "Epoch 84/100\n",
      "3/3 - 0s - loss: 8.1334e-04 - acc: 0.0116 - val_loss: 0.0047 - val_acc: 0.0250\n",
      "Epoch 85/100\n",
      "3/3 - 0s - loss: 8.2634e-04 - acc: 0.0116 - val_loss: 0.0039 - val_acc: 0.0250\n",
      "Epoch 86/100\n",
      "3/3 - 0s - loss: 8.1007e-04 - acc: 0.0116 - val_loss: 0.0038 - val_acc: 0.0250\n",
      "Epoch 87/100\n",
      "3/3 - 0s - loss: 7.7583e-04 - acc: 0.0116 - val_loss: 0.0042 - val_acc: 0.0250\n",
      "Epoch 88/100\n",
      "3/3 - 0s - loss: 7.9155e-04 - acc: 0.0116 - val_loss: 0.0038 - val_acc: 0.0250\n",
      "Epoch 89/100\n",
      "3/3 - 0s - loss: 7.8187e-04 - acc: 0.0116 - val_loss: 0.0038 - val_acc: 0.0250\n",
      "Epoch 90/100\n",
      "3/3 - 0s - loss: 8.0294e-04 - acc: 0.0116 - val_loss: 0.0042 - val_acc: 0.0250\n",
      "Epoch 91/100\n",
      "3/3 - 0s - loss: 7.6195e-04 - acc: 0.0116 - val_loss: 0.0037 - val_acc: 0.0250\n",
      "Epoch 92/100\n",
      "3/3 - 0s - loss: 7.9502e-04 - acc: 0.0116 - val_loss: 0.0037 - val_acc: 0.0250\n"
     ]
    },
    {
     "name": "stdout",
     "output_type": "stream",
     "text": [
      "Epoch 93/100\n",
      "3/3 - 0s - loss: 7.3294e-04 - acc: 0.0116 - val_loss: 0.0042 - val_acc: 0.0250\n",
      "Epoch 94/100\n",
      "3/3 - 0s - loss: 7.6752e-04 - acc: 0.0116 - val_loss: 0.0036 - val_acc: 0.0250\n",
      "Epoch 95/100\n",
      "3/3 - 0s - loss: 7.4837e-04 - acc: 0.0116 - val_loss: 0.0036 - val_acc: 0.0250\n",
      "Epoch 96/100\n",
      "3/3 - 0s - loss: 7.1480e-04 - acc: 0.0116 - val_loss: 0.0038 - val_acc: 0.0250\n",
      "Epoch 97/100\n",
      "3/3 - 0s - loss: 7.3862e-04 - acc: 0.0116 - val_loss: 0.0036 - val_acc: 0.0250\n",
      "Epoch 98/100\n",
      "3/3 - 0s - loss: 7.3288e-04 - acc: 0.0116 - val_loss: 0.0037 - val_acc: 0.0250\n",
      "Epoch 99/100\n",
      "3/3 - 0s - loss: 7.7470e-04 - acc: 0.0116 - val_loss: 0.0038 - val_acc: 0.0250\n",
      "Epoch 100/100\n",
      "3/3 - 0s - loss: 7.0273e-04 - acc: 0.0116 - val_loss: 0.0035 - val_acc: 0.0250\n"
     ]
    },
    {
     "data": {
      "text/plain": [
       "<tensorflow.python.keras.callbacks.History at 0x1f2b837f3d0>"
      ]
     },
     "execution_count": 37,
     "metadata": {},
     "output_type": "execute_result"
    }
   ],
   "source": [
    "model.fit(trainx, trainy, validation_data = (testx, testy), verbose = 2, epochs = 100)"
   ]
  },
  {
   "cell_type": "code",
   "execution_count": 38,
   "id": "63d2751f",
   "metadata": {},
   "outputs": [],
   "source": [
    "trainpredict = model.predict(trainx)\n",
    "testpredict = model.predict(testx)"
   ]
  },
  {
   "cell_type": "code",
   "execution_count": 39,
   "id": "c28d6013",
   "metadata": {},
   "outputs": [],
   "source": [
    "trainpredict = scaler.inverse_transform(trainpredict)\n",
    "trainy_inverse = scaler.inverse_transform([trainy])\n",
    "testpredict = scaler.inverse_transform(testpredict)\n",
    "testy_inverse = scaler.inverse_transform([testy])"
   ]
  },
  {
   "cell_type": "markdown",
   "id": "408c21d2",
   "metadata": {},
   "source": [
    "### Print the accuracy scores"
   ]
  },
  {
   "cell_type": "code",
   "execution_count": 40,
   "id": "48f78926",
   "metadata": {},
   "outputs": [
    {
     "name": "stdout",
     "output_type": "stream",
     "text": [
      "Train Score = 13.70 RMSE\n",
      "Test Score = 30.78 RMSE\n"
     ]
    }
   ],
   "source": [
    "trainscore = math.sqrt(mean_squared_error(trainy_inverse[0], trainpredict[:, 0]))\n",
    "print('Train Score = %.2f RMSE' % trainscore)\n",
    "testscore = math.sqrt(mean_squared_error(testy_inverse[0], testpredict[:, 0]))\n",
    "print('Test Score = %.2f RMSE' % testscore)"
   ]
  },
  {
   "cell_type": "markdown",
   "id": "b6d02eff",
   "metadata": {},
   "source": [
    "### Plot the results"
   ]
  },
  {
   "cell_type": "code",
   "execution_count": null,
   "id": "8f348704",
   "metadata": {},
   "outputs": [],
   "source": [
    "trainpredictplot = np.empty_like(dataset)\n",
    "trainpredictplot[:, :] = np.nan\n",
    "trainpredictplot[seq_size:len(trainpredict) + seq_size, :] = trainpredict"
   ]
  },
  {
   "cell_type": "code",
   "execution_count": 42,
   "id": "7c3e36bc",
   "metadata": {},
   "outputs": [],
   "source": [
    "testpredictplot = np.empty_like(dataset)\n",
    "testpredictplot[:, :] = np.nan\n",
    "testpredictplot[len(trainpredict) + (seq_size*2) + 1:len(dataset) - 1, :] = testpredict"
   ]
  },
  {
   "cell_type": "code",
   "execution_count": 43,
   "id": "3fab26f9",
   "metadata": {},
   "outputs": [
    {
     "data": {
      "image/png": "[encoded data removed]",
      "text/plain": [
       "<Figure size 432x288 with 1 Axes>"
      ]
     },
     "metadata": {
      "needs_background": "light"
     },
     "output_type": "display_data"
    }
   ],
   "source": [
    "plt.plot(scaler.inverse_transform(dataset))\n",
    "plt.plot(trainpredictplot)\n",
    "plt.plot(testpredictplot)\n",
    "plt.show()"
   ]
  },
  {
   "cell_type": "code",
   "execution_count": null,
   "id": "712456e0",
   "metadata": {},
   "outputs": [],
   "source": []
  }
 ],
 "metadata": {
  "kernelspec": {
   "display_name": "Python 3",
   "language": "python",
   "name": "python3"
  },
  "language_info": {
   "codemirror_mode": {
    "name": "ipython",
    "version": 3
   },
   "file_extension": ".py",
   "mimetype": "text/x-python",
   "name": "python",
   "nbconvert_exporter": "python",
   "pygments_lexer": "ipython3",
   "version": "3.8.8"
  }
 },
 "nbformat": 4,
 "nbformat_minor": 5
}
